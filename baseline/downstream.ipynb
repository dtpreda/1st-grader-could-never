{
 "cells": [
  {
   "attachments": {},
   "cell_type": "markdown",
   "metadata": {},
   "source": [
    "# Downstream CIFAR10 Classification"
   ]
  },
  {
   "cell_type": "code",
   "execution_count": 33,
   "metadata": {},
   "outputs": [],
   "source": [
    "from baseline import BaselineModel\n",
    "from torchsummary import summary\n",
    "import torch\n",
    "\n",
    "device = 'cuda' if torch.cuda.is_available() else 'cpu'"
   ]
  },
  {
   "cell_type": "code",
   "execution_count": 34,
   "metadata": {},
   "outputs": [
    {
     "data": {
      "text/plain": [
       "<All keys matched successfully>"
      ]
     },
     "execution_count": 34,
     "metadata": {},
     "output_type": "execute_result"
    }
   ],
   "source": [
    "random_model = BaselineModel().to(device)\n",
    "pretext_model_state_dict = torch.load('baseline.pth', map_location=device)\n",
    "pretext_model = BaselineModel().to(device)\n",
    "pretext_model.load_state_dict(pretext_model_state_dict)"
   ]
  },
  {
   "cell_type": "code",
   "execution_count": 35,
   "metadata": {},
   "outputs": [
    {
     "name": "stdout",
     "output_type": "stream",
     "text": [
      "----------------------------------------------------------------\n",
      "        Layer (type)               Output Shape         Param #\n",
      "================================================================\n",
      "            Conv2d-1           [-1, 32, 16, 16]             544\n",
      "              ReLU-2           [-1, 32, 16, 16]               0\n",
      "       BatchNorm2d-3           [-1, 32, 16, 16]              64\n",
      "            Conv2d-4             [-1, 64, 8, 8]          32,832\n",
      "              ReLU-5             [-1, 64, 8, 8]               0\n",
      "       BatchNorm2d-6             [-1, 64, 8, 8]             128\n",
      "            Conv2d-7            [-1, 128, 4, 4]         131,200\n",
      "              ReLU-8            [-1, 128, 4, 4]               0\n",
      "       BatchNorm2d-9            [-1, 128, 4, 4]             256\n",
      "           Conv2d-10            [-1, 128, 2, 2]         262,272\n",
      "             ReLU-11            [-1, 128, 2, 2]               0\n",
      "      BatchNorm2d-12            [-1, 128, 2, 2]             256\n",
      "          Flatten-13                  [-1, 512]               0\n",
      "           Linear-14                  [-1, 128]          65,664\n",
      "             ReLU-15                  [-1, 128]               0\n",
      "      BatchNorm1d-16                  [-1, 128]             256\n",
      "           Linear-17                   [-1, 10]           1,290\n",
      "          Softmax-18                   [-1, 10]               0\n",
      "================================================================\n",
      "Total params: 494,762\n",
      "Trainable params: 494,762\n",
      "Non-trainable params: 0\n",
      "----------------------------------------------------------------\n",
      "Input size (MB): 0.00\n",
      "Forward/backward pass size (MB): 0.35\n",
      "Params size (MB): 1.89\n",
      "Estimated Total Size (MB): 2.24\n",
      "----------------------------------------------------------------\n"
     ]
    }
   ],
   "source": [
    "def change_head_to_CIFAR10_classifier(model, freeze_encoder=True):\n",
    "    classifier_head = [\n",
    "        #torch.nn.Conv2d(128,16,kernel_size=1,stride=1,padding=0,bias=True),\n",
    "        torch.nn.Flatten(),\n",
    "        torch.nn.Linear(512, 128),\n",
    "        torch.nn.ReLU(True),\n",
    "        torch.nn.BatchNorm1d(128),\n",
    "        torch.nn.Linear(128,10),\n",
    "        torch.nn.Softmax(dim=1)\n",
    "    ]\n",
    "\n",
    "    model.decoder = torch.nn.Sequential(*classifier_head)\n",
    "    if freeze_encoder:\n",
    "        model.encoder.requires_grad_(False)\n",
    "    return model\n",
    "\n",
    "random_model = change_head_to_CIFAR10_classifier(random_model, freeze_encoder=False)\n",
    "pretext_model = change_head_to_CIFAR10_classifier(pretext_model, freeze_encoder=False)\n",
    "summary(random_model, (1, 32, 32))"
   ]
  },
  {
   "attachments": {},
   "cell_type": "markdown",
   "metadata": {},
   "source": [
    "### Hyperparameters"
   ]
  },
  {
   "cell_type": "code",
   "execution_count": 19,
   "metadata": {},
   "outputs": [],
   "source": [
    "from torch.optim import Adam\n",
    "from torch.nn import CrossEntropyLoss\n",
    "from torch import cuda\n",
    "\n",
    "learning_rate = 1e-3\n",
    "batch_size = 512\n",
    "random_model_optimizer = Adam(random_model.parameters(), lr=learning_rate)\n",
    "pretext_model_optimizer = Adam(pretext_model.parameters(), lr=learning_rate)\n",
    "criterion = CrossEntropyLoss()\n",
    "epochs = 10\n",
    "device = 'cuda' if cuda.is_available() else 'cpu'"
   ]
  },
  {
   "attachments": {},
   "cell_type": "markdown",
   "metadata": {},
   "source": [
    "## Load CIFAR10"
   ]
  },
  {
   "cell_type": "code",
   "execution_count": 20,
   "metadata": {},
   "outputs": [
    {
     "name": "stdout",
     "output_type": "stream",
     "text": [
      "Files already downloaded and verified\n",
      "Files already downloaded and verified\n"
     ]
    }
   ],
   "source": [
    "import numpy as np\n",
    "from skimage import color\n",
    "\n",
    "import torchvision.transforms as transforms\n",
    "from torch.utils.data import DataLoader\n",
    "from torchvision.datasets import CIFAR10\n",
    "\n",
    "def import_image(img):\n",
    "    return torch.FloatTensor(np.transpose(color.rgb2lab(np.array(img)), (2,0,1)))\n",
    "\n",
    "img_transform = transforms.Compose([\n",
    "    transforms.Lambda(import_image),\n",
    "])\n",
    "\n",
    "train_dataset = CIFAR10(root='./data', train=True, download=True, transform=img_transform, target_transform=None)\n",
    "train_loader = DataLoader(train_dataset, batch_size=batch_size, shuffle=True)\n",
    "\n",
    "test_dataset = CIFAR10(root='./data', train=False, download=True, transform=img_transform, target_transform=None)\n",
    "test_loader = DataLoader(test_dataset, batch_size=batch_size, shuffle=True)"
   ]
  },
  {
   "attachments": {},
   "cell_type": "markdown",
   "metadata": {},
   "source": [
    "### Training"
   ]
  },
  {
   "cell_type": "code",
   "execution_count": 21,
   "metadata": {},
   "outputs": [
    {
     "name": "stdout",
     "output_type": "stream",
     "text": [
      "Training random model...\n",
      "Epoch1/10 average random error: 2.1612143297584687\n",
      "Epoch2/10 average random error: 2.091313464300973\n",
      "Epoch3/10 average random error: 2.0604371489310753\n",
      "Epoch4/10 average random error: 2.0357798605549093\n",
      "Epoch5/10 average random error: 2.012807166089817\n",
      "Epoch6/10 average random error: 1.9921687342682664\n",
      "Epoch7/10 average random error: 1.971690519731872\n",
      "Epoch8/10 average random error: 1.9551134644722452\n",
      "Epoch9/10 average random error: 1.9361970886892201\n",
      "Epoch10/10 average random error: 1.9197371821014249\n"
     ]
    }
   ],
   "source": [
    "random_model.train()\n",
    "\n",
    "print('Training random model...')\n",
    "\n",
    "random_train_loss_avg = []\n",
    "\n",
    "for epoch in range(epochs):\n",
    "    random_train_loss_avg.append(0)\n",
    "    num_batches = 0\n",
    "\n",
    "    for batch, labels in train_loader:\n",
    "        batch = batch.to(device)\n",
    "\n",
    "        batch_input = batch[:,0:1,:,:]\n",
    "        random_prediction = random_model(batch_input)\n",
    "    \n",
    "        labels = torch.nn.functional.one_hot(labels, num_classes=10).float().to(device)\n",
    "\n",
    "        loss = criterion(random_prediction, labels)\n",
    "        random_model_optimizer.zero_grad()\n",
    "        loss.backward()\n",
    "        random_model_optimizer.step()\n",
    "        random_train_loss_avg[-1] += loss.item()\n",
    "\n",
    "        num_batches += 1\n",
    "\n",
    "    random_train_loss_avg[-1] /= num_batches\n",
    "    print(f\"Epoch {epoch+1}/{epochs} average random error: {random_train_loss_avg[-1]}\")\n"
   ]
  },
  {
   "cell_type": "code",
   "execution_count": 26,
   "metadata": {},
   "outputs": [
    {
     "name": "stdout",
     "output_type": "stream",
     "text": [
      "Training pretext model...\n",
      "Epoch1/10 average pretext error: 1.9554011663612054\n",
      "Epoch2/10 average pretext error: 1.9352370305937163\n",
      "Epoch3/10 average pretext error: 1.918421352396206\n",
      "Epoch4/10 average pretext error: 1.9029030690387803\n",
      "Epoch5/10 average pretext error: 1.887261696007787\n",
      "Epoch6/10 average pretext error: 1.8736209893713192\n",
      "Epoch7/10 average pretext error: 1.859249777939855\n",
      "Epoch8/10 average pretext error: 1.845372993118909\n",
      "Epoch9/10 average pretext error: 1.8336306117018875\n",
      "Epoch10/10 average pretext error: 1.8211000500893106\n"
     ]
    }
   ],
   "source": [
    "pretext_model.train()\n",
    "\n",
    "print('Training pretext model...')\n",
    "\n",
    "pretext_train_loss_avg = []\n",
    "\n",
    "for epoch in range(epochs):\n",
    "    pretext_train_loss_avg.append(0)\n",
    "    num_batches = 0\n",
    "\n",
    "    for batch, labels in train_loader:\n",
    "        batch = batch.to(device)\n",
    "\n",
    "        batch_input = batch[:,0:1,:,:]\n",
    "        pretext_prediction = pretext_model(batch_input)\n",
    "\n",
    "        labels = torch.nn.functional.one_hot(labels, num_classes=10).float().to(device)\n",
    "\n",
    "        loss = criterion(pretext_prediction, labels)\n",
    "        pretext_model_optimizer.zero_grad()\n",
    "        loss.backward()\n",
    "        pretext_model_optimizer.step()\n",
    "        pretext_train_loss_avg[-1] += loss.item()\n",
    "\n",
    "        num_batches += 1\n",
    "\n",
    "    pretext_train_loss_avg[-1] /= num_batches\n",
    "    print(f\"Epoch {epoch+1}/{epochs} average pretext error: {pretext_train_loss_avg[-1]}\")\n"
   ]
  },
  {
   "cell_type": "code",
   "execution_count": 27,
   "metadata": {},
   "outputs": [
    {
     "data": {
      "image/png": "[encoded data removed]",
      "text/plain": [
       "<Figure size 640x480 with 1 Axes>"
      ]
     },
     "metadata": {},
     "output_type": "display_data"
    }
   ],
   "source": [
    "# plot the training loss\n",
    "import matplotlib.pyplot as plt\n",
    "\n",
    "plt.plot(random_train_loss_avg, label='random')\n",
    "plt.plot(pretext_train_loss_avg, label='pretext')\n",
    "plt.xlabel('Epoch')\n",
    "plt.ylabel('Training Loss')\n",
    "plt.legend()\n",
    "plt.show()"
   ]
  },
  {
   "cell_type": "code",
   "execution_count": 36,
   "metadata": {},
   "outputs": [
    {
     "name": "stdout",
     "output_type": "stream",
     "text": [
      "average loss: 2.301620\n"
     ]
    }
   ],
   "source": [
    "# set to evaluation mode\n",
    "random_model.eval()\n",
    "\n",
    "test_loss_avg, num_batches = 0, 0\n",
    "for lab_batch, labels in test_loader:\n",
    "\n",
    "    with torch.no_grad():\n",
    "\n",
    "        lab_batch = lab_batch.to(device)\n",
    "\n",
    "        # apply the color net to the luminance component of the Lab images\n",
    "        # to get the color (ab) components\n",
    "        labels = torch.nn.functional.one_hot(labels, num_classes=10).float().to(device)\n",
    "        prediction = random_model(lab_batch[:, 0:1, :, :])\n",
    "\n",
    "        # loss is the L2 error to the actual color (ab) components\n",
    "        loss = criterion(prediction, labels)\n",
    "\n",
    "        test_loss_avg += loss.item()\n",
    "        num_batches += 1\n",
    "    \n",
    "test_loss_avg /= num_batches\n",
    "print('average loss: %f' % (test_loss_avg))"
   ]
  },
  {
   "cell_type": "code",
   "execution_count": 37,
   "metadata": {},
   "outputs": [
    {
     "name": "stdout",
     "output_type": "stream",
     "text": [
      "average loss: 2.303379\n"
     ]
    }
   ],
   "source": [
    "# set to evaluation mode\n",
    "pretext_model.eval()\n",
    "\n",
    "test_loss_avg, num_batches = 0, 0\n",
    "for lab_batch, labels in test_loader:\n",
    "\n",
    "    with torch.no_grad():\n",
    "\n",
    "        lab_batch = lab_batch.to(device)\n",
    "\n",
    "        # apply the color net to the luminance component of the Lab images\n",
    "        # to get the color (ab) components\n",
    "        labels = torch.nn.functional.one_hot(labels, num_classes=10).float().to(device)\n",
    "        prediction = pretext_model(lab_batch[:, 0:1, :, :])\n",
    "\n",
    "        # loss is the L2 error to the actual color (ab) components\n",
    "        loss = criterion(prediction, labels)\n",
    "\n",
    "        test_loss_avg += loss.item()\n",
    "        num_batches += 1\n",
    "    \n",
    "test_loss_avg /= num_batches\n",
    "print('average loss: %f' % (test_loss_avg))"
   ]
  }
 ],
 "metadata": {
  "kernelspec": {
   "display_name": "Python 3",
   "language": "python",
   "name": "python3"
  },
  "language_info": {
   "codemirror_mode": {
    "name": "ipython",
    "version": 3
   },
   "file_extension": ".py",
   "mimetype": "text/x-python",
   "name": "python",
   "nbconvert_exporter": "python",
   "pygments_lexer": "ipython3",
   "version": "3.10.10"
  },
  "orig_nbformat": 4,
  "vscode": {
   "interpreter": {
    "hash": "e7370f93d1d0cde622a1f8e1c04877d8463912d04d973331ad4851f04de6915a"
   }
  }
 },
 "nbformat": 4,
 "nbformat_minor": 2
}
